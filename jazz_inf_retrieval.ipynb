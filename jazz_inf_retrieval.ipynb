{
 "cells": [
  {
   "cell_type": "markdown",
   "metadata": {},
   "source": [
    "# Natural Language Processing: information retrieval"
   ]
  },
  {
   "cell_type": "markdown",
   "metadata": {},
   "source": [
    "This exercise gets you to work on a basic text analytics problem. In particular, given a list of biographies of famous jazz players, we will build a system that given a text query will return the most appropriate person realative to that query."
   ]
  },
  {
   "cell_type": "markdown",
   "metadata": {},
   "source": [
    "#### Import libraries"
   ]
  },
  {
   "cell_type": "code",
   "execution_count": 1,
   "metadata": {},
   "outputs": [],
   "source": [
    "import pandas as pd\n",
    "import numpy as np\n",
    "import re\n",
    "from sklearn.feature_extraction.text import TfidfVectorizer\n",
    "from sklearn.metrics.pairwise import cosine_similarity\n",
    "import nltk\n",
    "#nltk.download()  # Download text data sets, including stop words\n",
    "#nltk.data.path.append('/home/[USER]/nltk_data/') # set another directory for nltk_data\n",
    "from nltk.corpus import stopwords  # Import the stop word list\n",
    "from nltk.stem.snowball import SnowballStemmer"
   ]
  },
  {
   "cell_type": "markdown",
   "metadata": {},
   "source": [
    "#### Import data\n",
    "\n",
    "We now import the biographies of jazzists found on wikipedia. We manually removed the citations [] since we though they did not bring anything important to the text."
   ]
  },
  {
   "cell_type": "code",
   "execution_count": 2,
   "metadata": {},
   "outputs": [
    {
     "name": "stdout",
     "output_type": "stream",
     "text": [
      "Row number: 0 ) Author: Charles \"Charlie\" Parker, Jr.  \n",
      "\n",
      "Row number: 0 ) Bio: August 29, 1920 - March 12, 1955), also known as Yardbird and Bird, was an American jazz saxophonist and composer.Parker was a highly influential jazz soloist and a leading figure in the development of bebop a form of jazz characterized by fast tempos, virtuosic technique and advanced harmonies. Parker was a blazingly fast virtuoso, and he introduced revolutionary harmonic ideas including rapid passing chords, new variants of altered chords, and chord substitutions. His tone ranged from clean an\n",
      "(16, 2)\n"
     ]
    }
   ],
   "source": [
    "data = pd.DataFrame(columns=['name', 'bio'])\n",
    "descriptions = \"Data/descriptions.txt\"\n",
    "\n",
    "with open(descriptions) as f:\n",
    "    for i, line in enumerate(f):\n",
    "\n",
    "                \n",
    "        if(i == 0):\n",
    "            print('Row number:', i, ') Author:', line.split('(', 1)[0],'\\n') # split when encountering an open round bracket '(' \n",
    "                                                                         # and take the first value (the remaining ones are all \n",
    "                                                                         # the other text)\n",
    "            print('Row number:', i, ') Bio:', line.split('(', 1)[1][0:500])\n",
    "\n",
    "            \n",
    "        newrow = pd.DataFrame([[line.split('(', 1)[0], line.strip()]], columns=['name', 'bio'])\n",
    "        \n",
    "        data = data.append(newrow, ignore_index=True)\n",
    "        \n",
    "print(data.shape)"
   ]
  },
  {
   "cell_type": "markdown",
   "metadata": {},
   "source": [
    "#### Clean the data\n",
    "Create the function to clean the raw data text. In this function we optionally remove all non-letters, stem the word after lower-case conversion, and remove stop-words."
   ]
  },
  {
   "cell_type": "code",
   "execution_count": 3,
   "metadata": {},
   "outputs": [],
   "source": [
    "def review_to_wordlist(review, regex=\"[^a-zA-Z]\", remove_stopwords=False, stemmer=None, verbose=False):\n",
    "    # Function to convert a document to a sequence of words,\n",
    "    # optionally removing stop words.  Returns a list of words.\n",
    "    #\n",
    "    #\n",
    "    # 2. Remove non-letters\n",
    "    if(regex is not None):\n",
    "        review = re.sub(regex, \" \", review)\n",
    "    \n",
    "    if(verbose):\n",
    "        print('\\n* RAW BIO: ')\n",
    "        print(review[0:100])\n",
    "    \n",
    "    # 3. Convert words to lower case and split them\n",
    "    words = review.lower().split()\n",
    "    \n",
    "    if(verbose):\n",
    "        print('\\n* LOWER CASE: ')\n",
    "        print(words[0:100])\n",
    "    \n",
    "    # 4. Stemming\n",
    "    if(stemmer is not None):\n",
    "        words = [stemmer.stem(w) for w in words]\n",
    "    \n",
    "    if(verbose):\n",
    "        print('\\n * STEMMED WORDS: ')\n",
    "        print(words[0:100])\n",
    "    \n",
    "    # 5. Optionally remove stop words (false by default)\n",
    "    # Two elements here are new: First, we converted the stop word list to a\n",
    "    # different data type, a set. This is for speed;\n",
    "    # since we'll be calling this function tens of thousands of times,\n",
    "    # it needs to be fast, and searching sets in Python is much faster than searching lists.\n",
    "    if remove_stopwords:\n",
    "        stops = set(stopwords.words(\"english\"))\n",
    "        words = [w for w in words if not w in stops]\n",
    "\n",
    "    if(verbose):\n",
    "        print('\\n * STOP WORDS REMOVED: ')\n",
    "        print(words[0:100])\n",
    "    \n",
    "    # 6. Return a list of words\n",
    "    return (words)"
   ]
  },
  {
   "cell_type": "markdown",
   "metadata": {},
   "source": [
    "Call the function to clean the data"
   ]
  },
  {
   "cell_type": "code",
   "execution_count": 4,
   "metadata": {},
   "outputs": [
    {
     "name": "stdout",
     "output_type": "stream",
     "text": [
      "\n",
      "* RAW BIO: \n",
      "Charles \"Charlie\" Parker, Jr. (August 29, 1920 - March 12, 1955), also known as Yardbird and Bird, w\n",
      "\n",
      "* LOWER CASE: \n",
      "['charles', '\"charlie\"', 'parker,', 'jr.', '(august', '29,', '1920', '-', 'march', '12,', '1955),', 'also', 'known', 'as', 'yardbird', 'and', 'bird,', 'was', 'an', 'american', 'jazz', 'saxophonist', 'and', 'composer.parker', 'was', 'a', 'highly', 'influential', 'jazz', 'soloist', 'and', 'a', 'leading', 'figure', 'in', 'the', 'development', 'of', 'bebop', 'a', 'form', 'of', 'jazz', 'characterized', 'by', 'fast', 'tempos,', 'virtuosic', 'technique', 'and', 'advanced', 'harmonies.', 'parker', 'was', 'a', 'blazingly', 'fast', 'virtuoso,', 'and', 'he', 'introduced', 'revolutionary', 'harmonic', 'ideas', 'including', 'rapid', 'passing', 'chords,', 'new', 'variants', 'of', 'altered', 'chords,', 'and', 'chord', 'substitutions.', 'his', 'tone', 'ranged', 'from', 'clean', 'and', 'penetrating', 'to', 'sweet', 'and', 'somber.', 'parker', 'acquired', 'the', 'nickname', '\"yardbird\"', 'early', 'in', 'his', 'career.', 'this,', 'and', 'the', 'shortened']\n",
      "\n",
      " * STEMMED WORDS: \n",
      "['charl', '\"charlie\"', 'parker,', 'jr.', '(august', '29,', '1920', '-', 'march', '12,', '1955),', 'also', 'known', 'as', 'yardbird', 'and', 'bird,', 'was', 'an', 'american', 'jazz', 'saxophonist', 'and', 'composer.park', 'was', 'a', 'high', 'influenti', 'jazz', 'soloist', 'and', 'a', 'lead', 'figur', 'in', 'the', 'develop', 'of', 'bebop', 'a', 'form', 'of', 'jazz', 'character', 'by', 'fast', 'tempos,', 'virtuos', 'techniqu', 'and', 'advanc', 'harmonies.', 'parker', 'was', 'a', 'blaze', 'fast', 'virtuoso,', 'and', 'he', 'introduc', 'revolutionari', 'harmon', 'idea', 'includ', 'rapid', 'pass', 'chords,', 'new', 'variant', 'of', 'alter', 'chords,', 'and', 'chord', 'substitutions.', 'his', 'tone', 'rang', 'from', 'clean', 'and', 'penetr', 'to', 'sweet', 'and', 'somber.', 'parker', 'acquir', 'the', 'nicknam', '\"yardbird\"', 'earli', 'in', 'his', 'career.', 'this,', 'and', 'the', 'shorten']\n",
      "\n",
      " * STOP WORDS REMOVED: \n",
      "['charl', '\"charlie\"', 'parker,', 'jr.', '(august', '29,', '1920', '-', 'march', '12,', '1955),', 'also', 'known', 'yardbird', 'bird,', 'american', 'jazz', 'saxophonist', 'composer.park', 'high', 'influenti', 'jazz', 'soloist', 'lead', 'figur', 'develop', 'bebop', 'form', 'jazz', 'character', 'fast', 'tempos,', 'virtuos', 'techniqu', 'advanc', 'harmonies.', 'parker', 'blaze', 'fast', 'virtuoso,', 'introduc', 'revolutionari', 'harmon', 'idea', 'includ', 'rapid', 'pass', 'chords,', 'new', 'variant', 'alter', 'chords,', 'chord', 'substitutions.', 'tone', 'rang', 'clean', 'penetr', 'sweet', 'somber.', 'parker', 'acquir', 'nicknam', '\"yardbird\"', 'earli', 'career.', 'this,', 'shorten', 'form', '\"bird\",', 'continu', 'use', 'rest', 'life,', 'inspir', 'titl', 'number', 'parker', 'compositions,', '\"yardbird', 'suite\",', '\"ornithology\",', '\"bird', 'get', 'worm\",', '\"bird', 'paradise\".', 'parker', 'icon', 'hipster', 'subcultur', 'later', 'beat', 'generation,', 'personifi', 'jazz', 'musician', 'uncompromis', 'artist', 'intellectu']\n",
      "\n",
      "* RAW BIO: \n",
      "John Birks \"Dizzy\" Gillespie (October 21, 1917 - January 6, 1993) was an American jazz trumpeter, ba\n",
      "\n",
      "* LOWER CASE: \n",
      "['john', 'birks', '\"dizzy\"', 'gillespie', '(october', '21,', '1917', '-', 'january', '6,', '1993)', 'was', 'an', 'american', 'jazz', 'trumpeter,', 'bandleader,', 'composer,', 'and', 'singer.', \"allmusic's\", 'scott', 'yanow', 'wrote,', '\"dizzy', \"gillespie's\", 'contributions', 'to', 'jazz', 'were', 'huge.', 'one', 'of', 'the', 'greatest', 'jazz', 'trumpeters', 'of', 'all', 'time', '(some', 'would', 'say', 'the', 'best),', 'gillespie', 'was', 'such', 'a', 'complex', 'player', 'that', 'his', 'contemporaries', 'ended', 'up', 'copying', 'miles', 'davis', 'and', 'fats', 'navarro', 'instead,', 'and', 'it', 'was', 'not', 'until', 'jon', \"faddis's\", 'emergence', 'in', 'the', '1970s', 'that', \"dizzy's\", 'style', 'was', 'successfully', 'recreated.', 'arguably', 'gillespie', 'is', 'remembered,', 'by', 'both', 'critics', 'and', 'fans', 'alike,', 'as', 'one', 'of', 'the', 'greatest', 'jazz', 'trumpeters', 'of', 'all', 'time.\"']\n",
      "\n",
      " * STEMMED WORDS: \n",
      "['john', 'birk', '\"dizzy\"', 'gillespi', '(octob', '21,', '1917', '-', 'januari', '6,', '1993)', 'was', 'an', 'american', 'jazz', 'trumpeter,', 'bandleader,', 'composer,', 'and', 'singer.', 'allmus', 'scott', 'yanow', 'wrote,', '\"dizzi', 'gillespi', 'contribut', 'to', 'jazz', 'were', 'huge.', 'one', 'of', 'the', 'greatest', 'jazz', 'trumpet', 'of', 'all', 'time', '(some', 'would', 'say', 'the', 'best),', 'gillespi', 'was', 'such', 'a', 'complex', 'player', 'that', 'his', 'contemporari', 'end', 'up', 'copi', 'mile', 'davi', 'and', 'fat', 'navarro', 'instead,', 'and', 'it', 'was', 'not', 'until', 'jon', 'faddi', 'emerg', 'in', 'the', '1970s', 'that', 'dizzi', 'style', 'was', 'success', 'recreated.', 'arguabl', 'gillespi', 'is', 'remembered,', 'by', 'both', 'critic', 'and', 'fan', 'alike,', 'as', 'one', 'of', 'the', 'greatest', 'jazz', 'trumpet', 'of', 'all', 'time.\"']\n",
      "\n",
      " * STOP WORDS REMOVED: \n",
      "['john', 'birk', '\"dizzy\"', 'gillespi', '(octob', '21,', '1917', '-', 'januari', '6,', '1993)', 'american', 'jazz', 'trumpeter,', 'bandleader,', 'composer,', 'singer.', 'allmus', 'scott', 'yanow', 'wrote,', '\"dizzi', 'gillespi', 'contribut', 'jazz', 'huge.', 'one', 'greatest', 'jazz', 'trumpet', 'time', '(some', 'would', 'say', 'best),', 'gillespi', 'complex', 'player', 'contemporari', 'end', 'copi', 'mile', 'davi', 'fat', 'navarro', 'instead,', 'jon', 'faddi', 'emerg', '1970s', 'dizzi', 'style', 'success', 'recreated.', 'arguabl', 'gillespi', 'remembered,', 'critic', 'fan', 'alike,', 'one', 'greatest', 'jazz', 'trumpet', 'time.\"', 'gillespi', 'trumpet', 'virtuoso', 'improviser,', 'build', 'virtuoso', 'style', 'roy', 'eldridg', 'ad', 'layer', 'harmon', 'complex', 'previous', 'unheard', 'jazz.', 'beret', 'horn-rim', 'spectacles,', 'scat', 'singing,', 'bent', 'horn,', 'pouch', 'cheek', 'light-heart', 'person', 'essenti', 'popular', 'bebop.', '1940s', 'gillespie,', 'charli', 'parker,', 'becam']\n",
      "\n",
      "* RAW BIO: \n",
      "Arthur \"Art\" Tatum, Jr. (October 13, 1909 - November 5, 1956) was an American jazz pianist. Tatum is\n",
      "\n",
      "* LOWER CASE: \n",
      "['arthur', '\"art\"', 'tatum,', 'jr.', '(october', '13,', '1909', '-', 'november', '5,', '1956)', 'was', 'an', 'american', 'jazz', 'pianist.', 'tatum', 'is', 'widely', 'acknowledged', 'as', 'one', 'of', 'the', 'greatest', 'jazz', 'pianists', 'of', 'all', 'time,', 'and', 'was', 'a', 'major', 'influence', 'on', 'later', 'generations', 'of', 'jazz', 'pianists.', 'he', 'was', 'hailed', 'for', 'the', 'technical', 'proficiency', 'of', 'his', 'performances,', 'which', 'set', 'a', 'new', 'standard', 'for', 'jazz', 'piano', 'virtuosity.', 'critic', 'scott', 'yanow', 'wrote,', '\"tatum\\'s', 'quick', 'reflexes', 'and', 'boundless', 'imagination', 'kept', 'his', 'improvisations', 'filled', 'with', 'fresh', '(and', 'sometimes', 'futuristic)', 'ideas', 'that', 'put', 'him', 'way', 'ahead', 'of', 'his', 'contemporaries.']\n",
      "\n",
      " * STEMMED WORDS: \n",
      "['arthur', '\"art\"', 'tatum,', 'jr.', '(octob', '13,', '1909', '-', 'novemb', '5,', '1956)', 'was', 'an', 'american', 'jazz', 'pianist.', 'tatum', 'is', 'wide', 'acknowledg', 'as', 'one', 'of', 'the', 'greatest', 'jazz', 'pianist', 'of', 'all', 'time,', 'and', 'was', 'a', 'major', 'influenc', 'on', 'later', 'generat', 'of', 'jazz', 'pianists.', 'he', 'was', 'hail', 'for', 'the', 'technic', 'profici', 'of', 'his', 'performances,', 'which', 'set', 'a', 'new', 'standard', 'for', 'jazz', 'piano', 'virtuosity.', 'critic', 'scott', 'yanow', 'wrote,', '\"tatum', 'quick', 'reflex', 'and', 'boundless', 'imagin', 'kept', 'his', 'improvis', 'fill', 'with', 'fresh', '(and', 'sometim', 'futuristic)', 'idea', 'that', 'put', 'him', 'way', 'ahead', 'of', 'his', 'contemporaries.']\n",
      "\n",
      " * STOP WORDS REMOVED: \n",
      "['arthur', '\"art\"', 'tatum,', 'jr.', '(octob', '13,', '1909', '-', 'novemb', '5,', '1956)', 'american', 'jazz', 'pianist.', 'tatum', 'wide', 'acknowledg', 'one', 'greatest', 'jazz', 'pianist', 'time,', 'major', 'influenc', 'later', 'generat', 'jazz', 'pianists.', 'hail', 'technic', 'profici', 'performances,', 'set', 'new', 'standard', 'jazz', 'piano', 'virtuosity.', 'critic', 'scott', 'yanow', 'wrote,', '\"tatum', 'quick', 'reflex', 'boundless', 'imagin', 'kept', 'improvis', 'fill', 'fresh', '(and', 'sometim', 'futuristic)', 'idea', 'put', 'way', 'ahead', 'contemporaries.']\n",
      "\n",
      "* RAW BIO: \n",
      "Clark Virgil Terry Jr. (December 14, 1920 - February 21, 2015) was an American swing and bebop trump\n",
      "\n",
      "* LOWER CASE: \n",
      "['clark', 'virgil', 'terry', 'jr.', '(december', '14,', '1920', '-', 'february', '21,', '2015)', 'was', 'an', 'american', 'swing', 'and', 'bebop', 'trumpeter,', 'a', 'pioneer', 'of', 'the', 'flugelhorn', 'in', 'jazz,', 'composer,', 'educator,', 'and', 'nea', 'jazz', 'masters', 'inductee.', 'he', 'played', 'with', 'charlie', 'barnet', '(1947),', 'count', 'basie', '(1948-51),', 'duke', 'ellington', '(1951-59),', 'quincy', 'jones', '(1960),', 'and', 'oscar', 'peterson', '(1964-96).', 'he', 'was', 'also', 'with', 'the', 'tonight', 'show', 'band', 'from', '1962', 'to', '1972.', \"terry's\", 'career', 'in', 'jazz', 'spanned', 'more', 'than', '70', 'years,', 'during', 'which', 'he', 'became', 'one', 'of', 'the', 'most', 'recorded', 'jazz', 'musicians', 'ever,', 'appearing', 'on', 'over', '900', 'recordings.', 'terry', 'also', 'mentored', 'many', 'musicians', 'including', 'quincy', 'jones,', 'miles', 'davis,', 'herbie']\n",
      "\n",
      " * STEMMED WORDS: \n",
      "['clark', 'virgil', 'terri', 'jr.', '(decemb', '14,', '1920', '-', 'februari', '21,', '2015)', 'was', 'an', 'american', 'swing', 'and', 'bebop', 'trumpeter,', 'a', 'pioneer', 'of', 'the', 'flugelhorn', 'in', 'jazz,', 'composer,', 'educator,', 'and', 'nea', 'jazz', 'master', 'inductee.', 'he', 'play', 'with', 'charli', 'barnet', '(1947),', 'count', 'basi', '(1948-51),', 'duke', 'ellington', '(1951-59),', 'quinci', 'jone', '(1960),', 'and', 'oscar', 'peterson', '(1964-96).', 'he', 'was', 'also', 'with', 'the', 'tonight', 'show', 'band', 'from', '1962', 'to', '1972.', 'terri', 'career', 'in', 'jazz', 'span', 'more', 'than', '70', 'years,', 'during', 'which', 'he', 'becam', 'one', 'of', 'the', 'most', 'record', 'jazz', 'musician', 'ever,', 'appear', 'on', 'over', '900', 'recordings.', 'terri', 'also', 'mentor', 'mani', 'musician', 'includ', 'quinci', 'jones,', 'mile', 'davis,', 'herbi']\n",
      "\n",
      " * STOP WORDS REMOVED: \n",
      "['clark', 'virgil', 'terri', 'jr.', '(decemb', '14,', '1920', '-', 'februari', '21,', '2015)', 'american', 'swing', 'bebop', 'trumpeter,', 'pioneer', 'flugelhorn', 'jazz,', 'composer,', 'educator,', 'nea', 'jazz', 'master', 'inductee.', 'play', 'charli', 'barnet', '(1947),', 'count', 'basi', '(1948-51),', 'duke', 'ellington', '(1951-59),', 'quinci', 'jone', '(1960),', 'oscar', 'peterson', '(1964-96).', 'also', 'tonight', 'show', 'band', '1962', '1972.', 'terri', 'career', 'jazz', 'span', '70', 'years,', 'becam', 'one', 'record', 'jazz', 'musician', 'ever,', 'appear', '900', 'recordings.', 'terri', 'also', 'mentor', 'mani', 'musician', 'includ', 'quinci', 'jones,', 'mile', 'davis,', 'herbi', 'hancock,', 'wynton', 'marsalis,', 'pat', 'metheny,', 'diann', 'reeves,', 'terri', 'lyne', 'carrington', 'among', 'thousand', 'others.']\n",
      "\n",
      "* RAW BIO: \n",
      "David Warren \"Dave\" Brubeck (December 6, 1920 - December 5, 2012) was an American jazz pianist and c\n",
      "\n",
      "* LOWER CASE: \n",
      "['david', 'warren', '\"dave\"', 'brubeck', '(december', '6,', '1920', '-', 'december', '5,', '2012)', 'was', 'an', 'american', 'jazz', 'pianist', 'and', 'composer,', 'considered', 'to', 'be', 'one', 'of', 'the', 'foremost', 'exponents', 'of', 'cool', 'jazz.', 'he', 'wrote', 'a', 'number', 'of', 'jazz', 'standards,', 'including', '\"in', 'your', 'own', 'sweet', 'way\"', 'and', '\"the', 'duke\".', \"brubeck's\", 'style', 'ranged', 'from', 'refined', 'to', 'bombastic,', 'reflecting', 'his', \"mother's\", 'attempts', 'at', 'classical', 'training', 'and', 'his', 'improvisational', 'skills.', 'his', 'music', 'is', 'known', 'for', 'employing', 'unusual', 'time', 'signatures,', 'and', 'superimposing', 'contrasting', 'rhythms,', 'meters,', 'and', 'tonalities.', 'his', 'long-time', 'musical', 'partner,', 'alto', 'saxophonist', 'paul', 'desmond,', 'wrote', 'the', 'saxophone', 'melody', 'for', 'the', 'dave', 'brubeck', \"quartet's\", 'best', 'remembered', 'piece,', '\"take']\n",
      "\n",
      " * STEMMED WORDS: \n",
      "['david', 'warren', '\"dave\"', 'brubeck', '(decemb', '6,', '1920', '-', 'decemb', '5,', '2012)', 'was', 'an', 'american', 'jazz', 'pianist', 'and', 'composer,', 'consid', 'to', 'be', 'one', 'of', 'the', 'foremost', 'expon', 'of', 'cool', 'jazz.', 'he', 'wrote', 'a', 'number', 'of', 'jazz', 'standards,', 'includ', '\"in', 'your', 'own', 'sweet', 'way\"', 'and', '\"the', 'duke\".', 'brubeck', 'style', 'rang', 'from', 'refin', 'to', 'bombastic,', 'reflect', 'his', 'mother', 'attempt', 'at', 'classic', 'train', 'and', 'his', 'improvis', 'skills.', 'his', 'music', 'is', 'known', 'for', 'employ', 'unusu', 'time', 'signatures,', 'and', 'superimpos', 'contrast', 'rhythms,', 'meters,', 'and', 'tonalities.', 'his', 'long-tim', 'music', 'partner,', 'alto', 'saxophonist', 'paul', 'desmond,', 'wrote', 'the', 'saxophon', 'melodi', 'for', 'the', 'dave', 'brubeck', 'quartet', 'best', 'rememb', 'piece,', '\"take']\n",
      "\n",
      " * STOP WORDS REMOVED: \n",
      "['david', 'warren', '\"dave\"', 'brubeck', '(decemb', '6,', '1920', '-', 'decemb', '5,', '2012)', 'american', 'jazz', 'pianist', 'composer,', 'consid', 'one', 'foremost', 'expon', 'cool', 'jazz.', 'wrote', 'number', 'jazz', 'standards,', 'includ', '\"in', 'sweet', 'way\"', '\"the', 'duke\".', 'brubeck', 'style', 'rang', 'refin', 'bombastic,', 'reflect', 'mother', 'attempt', 'classic', 'train', 'improvis', 'skills.', 'music', 'known', 'employ', 'unusu', 'time', 'signatures,', 'superimpos', 'contrast', 'rhythms,', 'meters,', 'tonalities.', 'long-tim', 'music', 'partner,', 'alto', 'saxophonist', 'paul', 'desmond,', 'wrote', 'saxophon', 'melodi', 'dave', 'brubeck', 'quartet', 'best', 'rememb', 'piece,', '\"take', 'five\",', '5/4', 'time', 'endur', 'jazz', 'classic', 'one', 'top-sel', 'jazz', 'albums,', 'time', 'out.', 'brubeck', 'experi', 'time', 'signatur', 'throughout', 'career,', 'record', '\"pick', 'sticks\"', '6/4,', '\"unsquar', 'dance\"', '7/4,', '\"world', 'fair\"', '13/4,', '\"blue']\n",
      "\n",
      "* RAW BIO: \n",
      "Thelonious Sphere Monk (October 10, 1917 - February 17, 1982) was an American jazz pianist and compo\n",
      "\n",
      "* LOWER CASE: \n",
      "['thelonious', 'sphere', 'monk', '(october', '10,', '1917', '-', 'february', '17,', '1982)', 'was', 'an', 'american', 'jazz', 'pianist', 'and', 'composer.', 'monk', 'had', 'a', 'unique', 'improvisational', 'style', 'and', 'made', 'numerous', 'contributions', 'to', 'the', 'standard', 'jazz', 'repertoire,', 'including', '\"\\'round', 'midnight\",', '\"blue', 'monk\",', '\"straight,', 'no', 'chaser\"', '\"ruby,', 'my', 'dear\",', '\"in', 'walked', 'bud\",', 'and', '\"well,', 'you', 'needn\\'t\".', 'monk', 'is', 'the', 'second', 'most-recorded', 'jazz', 'composer', 'after', 'duke', 'ellington,', 'which', 'is', 'particularly', 'remarkable', 'as', 'ellington', 'composed', 'more', 'than', '1,000', 'pieces,', 'whereas', 'monk', 'wrote', 'about', '70.', 'his', 'compositions', 'and', 'improvisations', 'feature', 'dissonances', 'and', 'angular', 'melodic', 'twists,', 'and', 'are', 'consistent', 'with', \"monk's\", 'unorthodox', 'approach', 'to', 'the', 'piano,', 'which', 'combined', 'a', 'highly']\n",
      "\n",
      " * STEMMED WORDS: \n",
      "['theloni', 'sphere', 'monk', '(octob', '10,', '1917', '-', 'februari', '17,', '1982)', 'was', 'an', 'american', 'jazz', 'pianist', 'and', 'composer.', 'monk', 'had', 'a', 'uniqu', 'improvis', 'style', 'and', 'made', 'numer', 'contribut', 'to', 'the', 'standard', 'jazz', 'repertoire,', 'includ', '\"\\'round', 'midnight\",', '\"blue', 'monk\",', '\"straight,', 'no', 'chaser\"', '\"ruby,', 'my', 'dear\",', '\"in', 'walk', 'bud\",', 'and', '\"well,', 'you', 'needn\\'t\".', 'monk', 'is', 'the', 'second', 'most-record', 'jazz', 'compos', 'after', 'duke', 'ellington,', 'which', 'is', 'particular', 'remark', 'as', 'ellington', 'compos', 'more', 'than', '1,000', 'pieces,', 'wherea', 'monk', 'wrote', 'about', '70.', 'his', 'composit', 'and', 'improvis', 'featur', 'disson', 'and', 'angular', 'melod', 'twists,', 'and', 'are', 'consist', 'with', 'monk', 'unorthodox', 'approach', 'to', 'the', 'piano,', 'which', 'combin', 'a', 'high']\n",
      "\n",
      " * STOP WORDS REMOVED: \n",
      "['theloni', 'sphere', 'monk', '(octob', '10,', '1917', '-', 'februari', '17,', '1982)', 'american', 'jazz', 'pianist', 'composer.', 'monk', 'uniqu', 'improvis', 'style', 'made', 'numer', 'contribut', 'standard', 'jazz', 'repertoire,', 'includ', '\"\\'round', 'midnight\",', '\"blue', 'monk\",', '\"straight,', 'chaser\"', '\"ruby,', 'dear\",', '\"in', 'walk', 'bud\",', '\"well,', 'needn\\'t\".', 'monk', 'second', 'most-record', 'jazz', 'compos', 'duke', 'ellington,', 'particular', 'remark', 'ellington', 'compos', '1,000', 'pieces,', 'wherea', 'monk', 'wrote', '70.', 'composit', 'improvis', 'featur', 'disson', 'angular', 'melod', 'twists,', 'consist', 'monk', 'unorthodox', 'approach', 'piano,', 'combin', 'high', 'percuss', 'attack', 'abrupt,', 'dramat', 'use', 'silenc', 'hesitations.', 'renown', 'distinct', 'style', 'suits,', 'hats,', 'sunglasses.', 'also', 'note', 'idiosyncrat', 'habit', 'observ', 'time', 'performances:', 'musician', 'band', 'continu', 'playing,', 'would', 'stop,', 'stand', 'keyboard,', 'danc', 'moment', 'return']\n",
      "\n",
      "* RAW BIO: \n",
      "Charles Mingus Jr. (April 22, 1922 - January 5, 1979) was an American jazz double bassist, composer \n",
      "\n",
      "* LOWER CASE: \n",
      "['charles', 'mingus', 'jr.', '(april', '22,', '1922', '-', 'january', '5,', '1979)', 'was', 'an', 'american', 'jazz', 'double', 'bassist,', 'composer', 'and', 'bandleader.', 'his', 'compositions', 'retained', 'the', 'hot', 'and', 'soulful', 'feel', 'of', 'hard', 'bop,', 'drawing', 'heavily', 'from', 'black', 'gospel', 'music', 'and', 'blues,', 'while', 'sometimes', 'containing', 'elements', 'of', 'third', 'stream,', 'free', 'jazz,', 'and', 'classical', 'music.', 'he', 'once', 'cited', 'duke', 'ellington', 'and', 'church', 'as', 'his', 'main', 'influences.', 'mingus', 'espoused', 'collective', 'improvisation,', 'similar', 'to', 'the', 'old', 'new', 'orleans', 'jazz', 'parades,', 'paying', 'particular', 'attention', 'to', 'how', 'each', 'band', 'member', 'interacted', 'with', 'the', 'group', 'as', 'a', 'whole.', 'in', 'creating', 'his', 'bands,', 'he', 'looked', 'not', 'only', 'at', 'the', 'skills', 'of']\n",
      "\n",
      " * STEMMED WORDS: \n",
      "['charl', 'mingus', 'jr.', '(april', '22,', '1922', '-', 'januari', '5,', '1979)', 'was', 'an', 'american', 'jazz', 'doubl', 'bassist,', 'compos', 'and', 'bandleader.', 'his', 'composit', 'retain', 'the', 'hot', 'and', 'soul', 'feel', 'of', 'hard', 'bop,', 'draw', 'heavili', 'from', 'black', 'gospel', 'music', 'and', 'blues,', 'while', 'sometim', 'contain', 'element', 'of', 'third', 'stream,', 'free', 'jazz,', 'and', 'classic', 'music.', 'he', 'once', 'cite', 'duke', 'ellington', 'and', 'church', 'as', 'his', 'main', 'influences.', 'mingus', 'espous', 'collect', 'improvisation,', 'similar', 'to', 'the', 'old', 'new', 'orlean', 'jazz', 'parades,', 'pay', 'particular', 'attent', 'to', 'how', 'each', 'band', 'member', 'interact', 'with', 'the', 'group', 'as', 'a', 'whole.', 'in', 'creat', 'his', 'bands,', 'he', 'look', 'not', 'only', 'at', 'the', 'skill', 'of']\n",
      "\n",
      " * STOP WORDS REMOVED: \n",
      "['charl', 'mingus', 'jr.', '(april', '22,', '1922', '-', 'januari', '5,', '1979)', 'american', 'jazz', 'doubl', 'bassist,', 'compos', 'bandleader.', 'composit', 'retain', 'hot', 'soul', 'feel', 'hard', 'bop,', 'draw', 'heavili', 'black', 'gospel', 'music', 'blues,', 'sometim', 'contain', 'element', 'third', 'stream,', 'free', 'jazz,', 'classic', 'music.', 'cite', 'duke', 'ellington', 'church', 'main', 'influences.', 'mingus', 'espous', 'collect', 'improvisation,', 'similar', 'old', 'new', 'orlean', 'jazz', 'parades,', 'pay', 'particular', 'attent', 'band', 'member', 'interact', 'group', 'whole.', 'creat', 'bands,', 'look', 'skill', 'avail', 'musicians,', 'also', 'personalities.', 'mani', 'musician', 'pass', 'band', 'later', 'went', 'impress', 'careers.', 'recruit', 'talent', 'sometim', 'little-known', 'artists,', 'util', 'assembl', 'unconvent', 'instrument', 'configurations.', 'performer,', 'mingus', 'pioneer', 'doubl', 'bass', 'technique,', 'wide', 'recogn', 'one', 'instrument', 'profici', 'players.']\n",
      "\n",
      "* RAW BIO: \n",
      "Benjamin David \"Benny\" Goodman (May 30, 1909 - June 13, 1986) was an American jazz and swing musicia\n",
      "\n",
      "* LOWER CASE: \n",
      "['benjamin', 'david', '\"benny\"', 'goodman', '(may', '30,', '1909', '-', 'june', '13,', '1986)', 'was', 'an', 'american', 'jazz', 'and', 'swing', 'musician,', 'clarinetist', 'and', 'bandleader,', 'known', 'as', 'the', '\"king', 'of', 'swing\".', 'in', 'the', 'mid-1930s,', 'benny', 'goodman', 'led', 'one', 'of', 'the', 'most', 'popular', 'musical', 'groups', 'in', 'america.', 'his', 'concert', 'at', 'carnegie', 'hall', 'in', 'new', 'york', 'city', 'on', 'january', '16,', '1938,', 'is', 'described', 'by', 'critic', 'bruce', 'eder', 'as', '\"the', 'single', 'most', 'important', 'jazz', 'or', 'popular', 'music', 'concert', 'in', 'history:', \"jazz's\", \"'coming\", \"out'\", 'party', 'to', 'the', 'world', 'of', \"'respectable'\", 'music.\"', \"goodman's\", 'bands', 'launched', 'the', 'careers', 'of', 'many', 'major', 'names', 'in', 'jazz.', 'during', 'an', 'era', 'of', 'segregation', 'he']\n",
      "\n",
      " * STEMMED WORDS: \n",
      "['benjamin', 'david', '\"benny\"', 'goodman', '(may', '30,', '1909', '-', 'june', '13,', '1986)', 'was', 'an', 'american', 'jazz', 'and', 'swing', 'musician,', 'clarinetist', 'and', 'bandleader,', 'known', 'as', 'the', '\"king', 'of', 'swing\".', 'in', 'the', 'mid-1930s,', 'benni', 'goodman', 'led', 'one', 'of', 'the', 'most', 'popular', 'music', 'group', 'in', 'america.', 'his', 'concert', 'at', 'carnegi', 'hall', 'in', 'new', 'york', 'citi', 'on', 'januari', '16,', '1938,', 'is', 'describ', 'by', 'critic', 'bruce', 'eder', 'as', '\"the', 'singl', 'most', 'import', 'jazz', 'or', 'popular', 'music', 'concert', 'in', 'history:', 'jazz', 'come', 'out', 'parti', 'to', 'the', 'world', 'of', 'respect', 'music.\"', 'goodman', 'band', 'launch', 'the', 'career', 'of', 'mani', 'major', 'name', 'in', 'jazz.', 'during', 'an', 'era', 'of', 'segreg', 'he']\n",
      "\n",
      " * STOP WORDS REMOVED: \n",
      "['benjamin', 'david', '\"benny\"', 'goodman', '(may', '30,', '1909', '-', 'june', '13,', '1986)', 'american', 'jazz', 'swing', 'musician,', 'clarinetist', 'bandleader,', 'known', '\"king', 'swing\".', 'mid-1930s,', 'benni', 'goodman', 'led', 'one', 'popular', 'music', 'group', 'america.', 'concert', 'carnegi', 'hall', 'new', 'york', 'citi', 'januari', '16,', '1938,', 'describ', 'critic', 'bruce', 'eder', '\"the', 'singl', 'import', 'jazz', 'popular', 'music', 'concert', 'history:', 'jazz', 'come', 'parti', 'world', 'respect', 'music.\"', 'goodman', 'band', 'launch', 'career', 'mani', 'major', 'name', 'jazz.', 'era', 'segreg', 'also', 'led', 'one', 'first', 'well-known', 'integr', 'jazz', 'groups.', 'goodman', 'continu', 'perform', 'near', 'end', 'life,', 'explor', 'interest', 'classic', 'music.']\n",
      "\n",
      "* RAW BIO: \n",
      "William James \"Count\" Basie (August 21, 1904 - April 26, 1984) was an American jazz pianist, organis\n",
      "\n",
      "* LOWER CASE: \n",
      "['william', 'james', '\"count\"', 'basie', '(august', '21,', '1904', '-', 'april', '26,', '1984)', 'was', 'an', 'american', 'jazz', 'pianist,', 'organist,', 'bandleader,', 'and', 'composer.', 'his', 'mother', 'taught', 'him', 'to', 'play', 'the', 'piano', 'and', 'he', 'started', 'performing', 'in', 'his', 'teens.', 'dropping', 'out', 'of', 'school,', 'he', 'learned', 'to', 'operate', 'lights', 'for', 'vaudeville', 'and', 'to', 'improvise', 'accompaniment', 'for', 'silent', 'films', 'at', 'a', 'local', 'movie', 'theater', 'in', 'his', 'home', 'town', 'of', 'red', 'bank,', 'new', 'jersey.', 'by', '16', 'years', 'old,', 'he', 'increasingly', 'played', 'jazz', 'piano', 'at', 'parties,', 'resorts', 'and', 'other', 'venues.', 'in', '1924,', 'he', 'went', 'to', 'harlem,', 'where', 'his', 'performing', 'career', 'expanded;', 'he', 'toured', 'with', 'groups', 'to', 'the', 'major']\n",
      "\n",
      " * STEMMED WORDS: \n",
      "['william', 'jame', '\"count\"', 'basi', '(august', '21,', '1904', '-', 'april', '26,', '1984)', 'was', 'an', 'american', 'jazz', 'pianist,', 'organist,', 'bandleader,', 'and', 'composer.', 'his', 'mother', 'taught', 'him', 'to', 'play', 'the', 'piano', 'and', 'he', 'start', 'perform', 'in', 'his', 'teens.', 'drop', 'out', 'of', 'school,', 'he', 'learn', 'to', 'oper', 'light', 'for', 'vaudevill', 'and', 'to', 'improvis', 'accompani', 'for', 'silent', 'film', 'at', 'a', 'local', 'movi', 'theater', 'in', 'his', 'home', 'town', 'of', 'red', 'bank,', 'new', 'jersey.', 'by', '16', 'year', 'old,', 'he', 'increas', 'play', 'jazz', 'piano', 'at', 'parties,', 'resort', 'and', 'other', 'venues.', 'in', '1924,', 'he', 'went', 'to', 'harlem,', 'where', 'his', 'perform', 'career', 'expanded;', 'he', 'tour', 'with', 'group', 'to', 'the', 'major']\n",
      "\n",
      " * STOP WORDS REMOVED: \n",
      "['william', 'jame', '\"count\"', 'basi', '(august', '21,', '1904', '-', 'april', '26,', '1984)', 'american', 'jazz', 'pianist,', 'organist,', 'bandleader,', 'composer.', 'mother', 'taught', 'play', 'piano', 'start', 'perform', 'teens.', 'drop', 'school,', 'learn', 'oper', 'light', 'vaudevill', 'improvis', 'accompani', 'silent', 'film', 'local', 'movi', 'theater', 'home', 'town', 'red', 'bank,', 'new', 'jersey.', '16', 'year', 'old,', 'increas', 'play', 'jazz', 'piano', 'parties,', 'resort', 'venues.', '1924,', 'went', 'harlem,', 'perform', 'career', 'expanded;', 'tour', 'group', 'major', 'jazz', 'citi', 'chicago,', 'st.', 'loui', 'kansa', 'city.', '1929', 'join', 'benni', 'moten', 'band', 'kansa', 'city,', 'play', 'moten', 'death', '1935.', '1935,', 'basi', 'form', 'jazz', 'orchestra,', 'count', 'basi', 'orchestra,', '1936', 'took', 'chicago', 'long', 'engag', 'first', 'recording.', 'led', 'group', 'almost', '50', 'years,']\n",
      "\n",
      "* RAW BIO: \n",
      "Miles Dewey Davis III (May 26, 1926 - September 28, 1991) was an American jazz trumpeter, bandleader\n",
      "\n",
      "* LOWER CASE: \n",
      "['miles', 'dewey', 'davis', 'iii', '(may', '26,', '1926', '-', 'september', '28,', '1991)', 'was', 'an', 'american', 'jazz', 'trumpeter,', 'bandleader,', 'and', 'composer.', 'he', 'is', 'among', 'the', 'most', 'influential', 'and', 'acclaimed', 'figures', 'in', 'the', 'history', 'of', 'jazz', 'and', '20th', 'century', 'music.', 'with', 'his', 'ever-changing', 'directions', 'in', 'music,', 'davis', 'was', 'at', 'the', 'forefront', 'of', 'a', 'number', 'of', 'major', 'stylistic', 'developments', 'in', 'jazz', 'over', 'his', 'five-decade', 'career.', 'born', 'and', 'raised', 'in', 'illinois,', 'davis', 'began', 'performing', 'in', '1940s', 'new', 'york', 'with', 'saxophonist', 'charlie', 'parker', 'before', 'recording', 'the', 'birth', 'of', 'the', 'cool', 'sessions', 'for', 'capitol', 'records,', 'which', 'were', 'instrumental', 'to', 'the', 'development', 'of', 'cool', 'jazz.', 'in', 'the', 'early']\n",
      "\n",
      " * STEMMED WORDS: \n",
      "['mile', 'dewey', 'davi', 'iii', '(may', '26,', '1926', '-', 'septemb', '28,', '1991)', 'was', 'an', 'american', 'jazz', 'trumpeter,', 'bandleader,', 'and', 'composer.', 'he', 'is', 'among', 'the', 'most', 'influenti', 'and', 'acclaim', 'figur', 'in', 'the', 'histori', 'of', 'jazz', 'and', '20th', 'centuri', 'music.', 'with', 'his', 'ever-chang', 'direct', 'in', 'music,', 'davi', 'was', 'at', 'the', 'forefront', 'of', 'a', 'number', 'of', 'major', 'stylist', 'develop', 'in', 'jazz', 'over', 'his', 'five-decad', 'career.', 'born', 'and', 'rais', 'in', 'illinois,', 'davi', 'began', 'perform', 'in', '1940s', 'new', 'york', 'with', 'saxophonist', 'charli', 'parker', 'before', 'record', 'the', 'birth', 'of', 'the', 'cool', 'session', 'for', 'capitol', 'records,', 'which', 'were', 'instrument', 'to', 'the', 'develop', 'of', 'cool', 'jazz.', 'in', 'the', 'earli']\n",
      "\n",
      " * STOP WORDS REMOVED: \n",
      "['mile', 'dewey', 'davi', 'iii', '(may', '26,', '1926', '-', 'septemb', '28,', '1991)', 'american', 'jazz', 'trumpeter,', 'bandleader,', 'composer.', 'among', 'influenti', 'acclaim', 'figur', 'histori', 'jazz', '20th', 'centuri', 'music.', 'ever-chang', 'direct', 'music,', 'davi', 'forefront', 'number', 'major', 'stylist', 'develop', 'jazz', 'five-decad', 'career.', 'born', 'rais', 'illinois,', 'davi', 'began', 'perform', '1940s', 'new', 'york', 'saxophonist', 'charli', 'parker', 'record', 'birth', 'cool', 'session', 'capitol', 'records,', 'instrument', 'develop', 'cool', 'jazz.', 'earli', '1950s,', 'record', 'earliest', 'hard', 'bop', 'music', 'prestig', 'record', 'haphazard', 'due', 'heroin', 'addiction.', 'wide', 'acclaim', 'comeback', 'perform', 'newport', 'jazz', 'festiv', '1955,', 'sign', 'long-term', 'contract', 'columbia', 'record', 'record', '1957', 'album', 'round', 'midnight.', 'first', 'work', 'saxophonist', 'john', 'coltran', 'bassist', 'paul', 'chambers,', 'key', 'member']\n",
      "\n",
      "* RAW BIO: \n",
      "John William Coltrane, also known as \"Trane\" (September 23, 1926 - July 17, 1967), was an American j\n",
      "\n",
      "* LOWER CASE: \n",
      "['john', 'william', 'coltrane,', 'also', 'known', 'as', '\"trane\"', '(september', '23,', '1926', '-', 'july', '17,', '1967),', 'was', 'an', 'american', 'jazz', 'saxophonist', 'and', 'composer.', 'working', 'in', 'the', 'bebop', 'and', 'hard', 'bop', 'idioms', 'early', 'in', 'his', 'career,', 'coltrane', 'helped', 'pioneer', 'the', 'use', 'of', 'modes', 'in', 'jazz', 'and', 'was', 'later', 'at', 'the', 'forefront', 'of', 'free', 'jazz.', 'he', 'led', 'at', 'least', 'fifty', 'recording', 'sessions', 'during', 'his', 'career,', 'and', 'appeared', 'as', 'a', 'sideman', 'on', 'many', 'albums', 'by', 'other', 'musicians,', 'including', 'trumpeter', 'miles', 'davis', 'and', 'pianist', 'thelonious', 'monk.', 'as', 'his', 'career', 'progressed,', 'coltrane', 'and', 'his', 'music', 'took', 'on', 'an', 'increasingly', 'spiritual', 'dimension.', 'coltrane', 'influenced', 'innumerable', 'musicians,', 'and', 'remains']\n"
     ]
    },
    {
     "name": "stdout",
     "output_type": "stream",
     "text": [
      "\n",
      " * STEMMED WORDS: \n",
      "['john', 'william', 'coltrane,', 'also', 'known', 'as', '\"trane\"', '(septemb', '23,', '1926', '-', 'juli', '17,', '1967),', 'was', 'an', 'american', 'jazz', 'saxophonist', 'and', 'composer.', 'work', 'in', 'the', 'bebop', 'and', 'hard', 'bop', 'idiom', 'earli', 'in', 'his', 'career,', 'coltran', 'help', 'pioneer', 'the', 'use', 'of', 'mode', 'in', 'jazz', 'and', 'was', 'later', 'at', 'the', 'forefront', 'of', 'free', 'jazz.', 'he', 'led', 'at', 'least', 'fifti', 'record', 'session', 'during', 'his', 'career,', 'and', 'appear', 'as', 'a', 'sideman', 'on', 'mani', 'album', 'by', 'other', 'musicians,', 'includ', 'trumpet', 'mile', 'davi', 'and', 'pianist', 'theloni', 'monk.', 'as', 'his', 'career', 'progressed,', 'coltran', 'and', 'his', 'music', 'took', 'on', 'an', 'increas', 'spiritu', 'dimension.', 'coltran', 'influenc', 'innumer', 'musicians,', 'and', 'remain']\n",
      "\n",
      " * STOP WORDS REMOVED: \n",
      "['john', 'william', 'coltrane,', 'also', 'known', '\"trane\"', '(septemb', '23,', '1926', '-', 'juli', '17,', '1967),', 'american', 'jazz', 'saxophonist', 'composer.', 'work', 'bebop', 'hard', 'bop', 'idiom', 'earli', 'career,', 'coltran', 'help', 'pioneer', 'use', 'mode', 'jazz', 'later', 'forefront', 'free', 'jazz.', 'led', 'least', 'fifti', 'record', 'session', 'career,', 'appear', 'sideman', 'mani', 'album', 'musicians,', 'includ', 'trumpet', 'mile', 'davi', 'pianist', 'theloni', 'monk.', 'career', 'progressed,', 'coltran', 'music', 'took', 'increas', 'spiritu', 'dimension.', 'coltran', 'influenc', 'innumer', 'musicians,', 'remain', 'one', 'signific', 'saxophonist', 'music', 'history.', 'receiv', 'mani', 'posthum', 'award', 'recognitions,', 'includ', 'canon', 'african', 'orthodox', 'church', 'saint', 'john', 'william', 'coltran', 'special', 'pulitz', 'prize', '2007.', 'second', 'wife', 'pianist', 'alic', 'coltran', 'son', 'ravi', 'coltran', 'also', 'saxophonist.coltran', 'born', 'parent']\n",
      "\n",
      "* RAW BIO: \n",
      "Sun Ra (born Herman Poole Blount, legal name Le Sony'r Ra; May 22, 1914 - May 30, 1993) was an Ameri\n",
      "\n",
      "* LOWER CASE: \n",
      "['sun', 'ra', '(born', 'herman', 'poole', 'blount,', 'legal', 'name', 'le', \"sony'r\", 'ra;', 'may', '22,', '1914', '-', 'may', '30,', '1993)', 'was', 'an', 'american', 'jazz', 'composer,', 'bandleader,', 'piano', 'and', 'synthesizer', 'player,', 'poet', 'and', 'philosopher', 'known', 'for', 'his', 'experimental', 'music,', '\"cosmic', 'philosophy\",', 'prolific', 'output,', 'and', 'theatrical', 'performances.', 'he', 'was', 'inducted', 'into', 'the', 'alabama', 'jazz', 'hall', 'of', 'fame', 'in', '1979.', 'for', 'much', 'of', 'his', 'career,', 'ra', 'led', '\"the', 'arkestra\",', 'an', 'ensemble', 'with', 'an', 'ever-changing', 'name', 'and', 'flexible', 'line-up.', 'born', 'and', 'raised', 'in', 'alabama,', 'blount', 'would', 'eventually', 'become', 'involved', 'in', 'the', '1940s', 'chicago', 'jazz', 'scene.', 'he', 'soon', 'abandoned', 'his', 'birth', 'name,', 'taking', 'the', 'name', 'sun', 'ra']\n",
      "\n",
      " * STEMMED WORDS: \n",
      "['sun', 'ra', '(born', 'herman', 'pool', 'blount,', 'legal', 'name', 'le', \"sony'r\", 'ra;', 'may', '22,', '1914', '-', 'may', '30,', '1993)', 'was', 'an', 'american', 'jazz', 'composer,', 'bandleader,', 'piano', 'and', 'synthes', 'player,', 'poet', 'and', 'philosoph', 'known', 'for', 'his', 'experiment', 'music,', '\"cosmic', 'philosophy\",', 'prolif', 'output,', 'and', 'theatric', 'performances.', 'he', 'was', 'induct', 'into', 'the', 'alabama', 'jazz', 'hall', 'of', 'fame', 'in', '1979.', 'for', 'much', 'of', 'his', 'career,', 'ra', 'led', '\"the', 'arkestra\",', 'an', 'ensembl', 'with', 'an', 'ever-chang', 'name', 'and', 'flexibl', 'line-up.', 'born', 'and', 'rais', 'in', 'alabama,', 'blount', 'would', 'eventu', 'becom', 'involv', 'in', 'the', '1940s', 'chicago', 'jazz', 'scene.', 'he', 'soon', 'abandon', 'his', 'birth', 'name,', 'take', 'the', 'name', 'sun', 'ra']\n",
      "\n",
      " * STOP WORDS REMOVED: \n",
      "['sun', 'ra', '(born', 'herman', 'pool', 'blount,', 'legal', 'name', 'le', \"sony'r\", 'ra;', 'may', '22,', '1914', '-', 'may', '30,', '1993)', 'american', 'jazz', 'composer,', 'bandleader,', 'piano', 'synthes', 'player,', 'poet', 'philosoph', 'known', 'experiment', 'music,', '\"cosmic', 'philosophy\",', 'prolif', 'output,', 'theatric', 'performances.', 'induct', 'alabama', 'jazz', 'hall', 'fame', '1979.', 'much', 'career,', 'ra', 'led', '\"the', 'arkestra\",', 'ensembl', 'ever-chang', 'name', 'flexibl', 'line-up.', 'born', 'rais', 'alabama,', 'blount', 'would', 'eventu', 'becom', 'involv', '1940s', 'chicago', 'jazz', 'scene.', 'soon', 'abandon', 'birth', 'name,', 'take', 'name', 'sun', 'ra', '(after', 'ra,', 'egyptian', 'god', 'sun)', 'develop', 'complex', 'persona', 'mytholog', 'would', 'make', 'pioneer', 'afrofuturism:', 'claim', 'alien', 'saturn', 'mission', 'preach', 'peace,', 'throughout', 'life', 'consist', 'deni', 'tie', 'prior', 'identity.', 'wide']\n",
      "\n",
      "* RAW BIO: \n",
      "Nina Simone (born Eunice Kathleen Waymon; February 21, 1933 - April 21, 2003) was an American singer\n",
      "\n",
      "* LOWER CASE: \n",
      "['nina', 'simone', '(born', 'eunice', 'kathleen', 'waymon;', 'february', '21,', '1933', '-', 'april', '21,', '2003)', 'was', 'an', 'american', 'singer,', 'songwriter,', 'pianist,', 'arranger,', 'and', 'civil', 'rights', 'activist', 'who', 'worked', 'in', 'a', 'broad', 'range', 'of', 'musical', 'styles', 'including', 'classical,', 'jazz,', 'blues,', 'folk,', 'r&b,', 'gospel,', 'and', 'pop.', 'born', 'in', 'north', 'carolina,', 'the', 'sixth', 'child', 'of', 'a', 'preacher,', 'simone', 'aspired', 'to', 'be', 'a', 'concert', 'pianist.', 'with', 'the', 'help', 'of', 'the', 'few', 'supporters', 'in', 'her', 'hometown', 'of', 'tryon,', 'north', 'carolina,', 'she', 'enrolled', 'in', 'the', 'juilliard', 'school', 'of', 'music', 'in', 'new', 'york.', 'waymon', 'then', 'applied', 'for', 'a', 'scholarship', 'to', 'study', 'at', 'the', 'prestigious', 'curtis', 'institute', 'of', 'music', 'in']\n",
      "\n",
      " * STEMMED WORDS: \n",
      "['nina', 'simon', '(born', 'eunic', 'kathleen', 'waymon;', 'februari', '21,', '1933', '-', 'april', '21,', '2003)', 'was', 'an', 'american', 'singer,', 'songwriter,', 'pianist,', 'arranger,', 'and', 'civil', 'right', 'activist', 'who', 'work', 'in', 'a', 'broad', 'rang', 'of', 'music', 'style', 'includ', 'classical,', 'jazz,', 'blues,', 'folk,', 'r&b,', 'gospel,', 'and', 'pop.', 'born', 'in', 'north', 'carolina,', 'the', 'sixth', 'child', 'of', 'a', 'preacher,', 'simon', 'aspir', 'to', 'be', 'a', 'concert', 'pianist.', 'with', 'the', 'help', 'of', 'the', 'few', 'support', 'in', 'her', 'hometown', 'of', 'tryon,', 'north', 'carolina,', 'she', 'enrol', 'in', 'the', 'juilliard', 'school', 'of', 'music', 'in', 'new', 'york.', 'waymon', 'then', 'appli', 'for', 'a', 'scholarship', 'to', 'studi', 'at', 'the', 'prestigi', 'curti', 'institut', 'of', 'music', 'in']\n",
      "\n",
      " * STOP WORDS REMOVED: \n",
      "['nina', 'simon', '(born', 'eunic', 'kathleen', 'waymon;', 'februari', '21,', '1933', '-', 'april', '21,', '2003)', 'american', 'singer,', 'songwriter,', 'pianist,', 'arranger,', 'civil', 'right', 'activist', 'work', 'broad', 'rang', 'music', 'style', 'includ', 'classical,', 'jazz,', 'blues,', 'folk,', 'r&b,', 'gospel,', 'pop.', 'born', 'north', 'carolina,', 'sixth', 'child', 'preacher,', 'simon', 'aspir', 'concert', 'pianist.', 'help', 'support', 'hometown', 'tryon,', 'north', 'carolina,', 'enrol', 'juilliard', 'school', 'music', 'new', 'york.', 'waymon', 'appli', 'scholarship', 'studi', 'prestigi', 'curti', 'institut', 'music', 'philadelphia,', 'deni', 'despit', 'well-receiv', 'audition.', 'simon', 'becam', 'fulli', 'convinc', 'reject', 'entir', 'due', 'race,', 'statement', 'matter', 'controversy.', 'year', 'later,', 'two', 'day', 'death,', 'curti', 'institut', 'music', 'bestow', 'honorari', 'degre', 'simone.', 'make', 'living,', 'eunic', 'waymon', 'chang', 'name', '\"nina', 'simone\".']\n",
      "\n",
      "* RAW BIO: \n",
      "Thomas Wright \"Fats\" Waller (May 21, 1904 - December 15, 1943) was an American jazz pianist, organis\n",
      "\n",
      "* LOWER CASE: \n",
      "['thomas', 'wright', '\"fats\"', 'waller', '(may', '21,', '1904', '-', 'december', '15,', '1943)', 'was', 'an', 'american', 'jazz', 'pianist,', 'organist,', 'composer,', 'singer,', 'and', 'comedic', 'entertainer.', 'his', 'innovations', 'to', 'the', 'harlem', 'stride', 'style', 'laid', 'the', 'groundwork', 'for', 'modern', 'jazz', 'piano.', 'his', 'best-known', 'compositions,', '\"ain\\'t', 'misbehavin\\'\"', 'and', '\"honeysuckle', 'rose\",', 'were', 'inducted', 'into', 'the', 'grammy', 'hall', 'of', 'fame', 'in', '1984', 'and', '1999.', 'waller', 'became', 'one', 'of', 'the', 'most', 'popular', 'performers', 'of', 'his', 'era,', 'finding', 'critical', 'and', 'commercial', 'success', 'in', 'the', 'united', 'states', 'and', 'europe.', 'he', 'was', 'also', 'a', 'prolific', 'songwriter,', 'and', 'many', 'songs', 'he', 'wrote', 'or', 'co-wrote', 'are', 'still', 'popular,', 'such', 'as', '\"honeysuckle', 'rose\",', '\"ain\\'t', 'misbehavin\\'\"']\n",
      "\n",
      " * STEMMED WORDS: \n",
      "['thoma', 'wright', '\"fats\"', 'waller', '(may', '21,', '1904', '-', 'decemb', '15,', '1943)', 'was', 'an', 'american', 'jazz', 'pianist,', 'organist,', 'composer,', 'singer,', 'and', 'comed', 'entertainer.', 'his', 'innov', 'to', 'the', 'harlem', 'stride', 'style', 'laid', 'the', 'groundwork', 'for', 'modern', 'jazz', 'piano.', 'his', 'best-known', 'compositions,', '\"ain\\'t', 'misbehavin\\'\"', 'and', '\"honeysuckl', 'rose\",', 'were', 'induct', 'into', 'the', 'grammi', 'hall', 'of', 'fame', 'in', '1984', 'and', '1999.', 'waller', 'becam', 'one', 'of', 'the', 'most', 'popular', 'perform', 'of', 'his', 'era,', 'find', 'critic', 'and', 'commerci', 'success', 'in', 'the', 'unit', 'state', 'and', 'europe.', 'he', 'was', 'also', 'a', 'prolif', 'songwriter,', 'and', 'mani', 'song', 'he', 'wrote', 'or', 'co-wrot', 'are', 'still', 'popular,', 'such', 'as', '\"honeysuckl', 'rose\",', '\"ain\\'t', 'misbehavin\\'\"']\n",
      "\n",
      " * STOP WORDS REMOVED: \n",
      "['thoma', 'wright', '\"fats\"', 'waller', '(may', '21,', '1904', '-', 'decemb', '15,', '1943)', 'american', 'jazz', 'pianist,', 'organist,', 'composer,', 'singer,', 'comed', 'entertainer.', 'innov', 'harlem', 'stride', 'style', 'laid', 'groundwork', 'modern', 'jazz', 'piano.', 'best-known', 'compositions,', '\"ain\\'t', 'misbehavin\\'\"', '\"honeysuckl', 'rose\",', 'induct', 'grammi', 'hall', 'fame', '1984', '1999.', 'waller', 'becam', 'one', 'popular', 'perform', 'era,', 'find', 'critic', 'commerci', 'success', 'unit', 'state', 'europe.', 'also', 'prolif', 'songwriter,', 'mani', 'song', 'wrote', 'co-wrot', 'still', 'popular,', '\"honeysuckl', 'rose\",', '\"ain\\'t', 'misbehavin\\'\"', '\"squeez', 'me\".', 'fellow', 'pianist', 'compos', 'oscar', 'levant', 'dub', 'waller', '\"the', 'black', 'horowitz\".', 'waller', 'believ', 'compos', 'mani', 'novelti', 'tune', '1920s', '1930s', 'sold', 'small', 'sums,', 'attribut', 'anoth', 'compos', 'lyricist.', 'standard', 'attribut', 'waller,', 'sometim', 'controversially,', 'includ', '\"i']\n",
      "\n",
      "* RAW BIO: \n",
      "Edward Kennedy \"Duke\" Ellington (April 29, 1899 - May 24, 1974) was an American composer, pianist, a\n",
      "\n",
      "* LOWER CASE: \n",
      "['edward', 'kennedy', '\"duke\"', 'ellington', '(april', '29,', '1899', '-', 'may', '24,', '1974)', 'was', 'an', 'american', 'composer,', 'pianist,', 'and', 'bandleader', 'of', 'a', 'jazz', 'orchestra,', 'which', 'he', 'led', 'from', '1923', 'until', 'his', 'death', 'in', 'a', 'career', 'spanning', 'over', 'fifty', 'years.', 'born', 'in', 'washington,', 'd.c.,', 'ellington', 'was', 'based', 'in', 'new', 'york', 'city', 'from', 'the', 'mid-1920s', 'onward,', 'and', 'gained', 'a', 'national', 'profile', 'through', 'his', \"orchestra's\", 'appearances', 'at', 'the', 'cotton', 'club', 'in', 'harlem.', 'in', 'the', '1930s,', 'his', 'orchestra', 'toured', 'in', 'europe.', 'though', 'widely', 'considered', 'to', 'have', 'been', 'a', 'pivotal', 'figure', 'in', 'the', 'history', 'of', 'jazz,', 'ellington', 'embraced', 'the', 'phrase', '\"beyond', 'category\"', 'as', 'a', 'liberating', 'principle,', 'and']\n",
      "\n",
      " * STEMMED WORDS: \n",
      "['edward', 'kennedi', '\"duke\"', 'ellington', '(april', '29,', '1899', '-', 'may', '24,', '1974)', 'was', 'an', 'american', 'composer,', 'pianist,', 'and', 'bandlead', 'of', 'a', 'jazz', 'orchestra,', 'which', 'he', 'led', 'from', '1923', 'until', 'his', 'death', 'in', 'a', 'career', 'span', 'over', 'fifti', 'years.', 'born', 'in', 'washington,', 'd.c.,', 'ellington', 'was', 'base', 'in', 'new', 'york', 'citi', 'from', 'the', 'mid-1920', 'onward,', 'and', 'gain', 'a', 'nation', 'profil', 'through', 'his', 'orchestra', 'appear', 'at', 'the', 'cotton', 'club', 'in', 'harlem.', 'in', 'the', '1930s,', 'his', 'orchestra', 'tour', 'in', 'europe.', 'though', 'wide', 'consid', 'to', 'have', 'been', 'a', 'pivot', 'figur', 'in', 'the', 'histori', 'of', 'jazz,', 'ellington', 'embrac', 'the', 'phrase', '\"beyond', 'category\"', 'as', 'a', 'liber', 'principle,', 'and']\n",
      "\n",
      " * STOP WORDS REMOVED: \n",
      "['edward', 'kennedi', '\"duke\"', 'ellington', '(april', '29,', '1899', '-', 'may', '24,', '1974)', 'american', 'composer,', 'pianist,', 'bandlead', 'jazz', 'orchestra,', 'led', '1923', 'death', 'career', 'span', 'fifti', 'years.', 'born', 'washington,', 'd.c.,', 'ellington', 'base', 'new', 'york', 'citi', 'mid-1920', 'onward,', 'gain', 'nation', 'profil', 'orchestra', 'appear', 'cotton', 'club', 'harlem.', '1930s,', 'orchestra', 'tour', 'europe.', 'though', 'wide', 'consid', 'pivot', 'figur', 'histori', 'jazz,', 'ellington', 'embrac', 'phrase', '\"beyond', 'category\"', 'liber', 'principle,', 'refer', 'music', 'part', 'general', 'categori', 'american', 'music,', 'rather', 'music', 'genr', 'jazz.', 'musician', 'member', 'ellington', 'orchestra,', 'saxophonist', 'johnni', 'hodges,', 'consid', 'among', 'best', 'player', 'jazz.', 'ellington', 'meld', 'best-known', 'orchestr', 'unit', 'histori', 'jazz.', 'member', 'stay', 'orchestra', 'sever', 'decades.', 'master', 'write', 'miniatur', 'three-minut', '78']\n",
      "\n",
      "* RAW BIO: \n",
      "Louis Armstrong (August 4, 1901 - July 6, 1971), nicknamed Satchmo or Pops, was an American trumpete\n",
      "\n",
      "* LOWER CASE: \n",
      "['louis', 'armstrong', '(august', '4,', '1901', '-', 'july', '6,', '1971),', 'nicknamed', 'satchmo', 'or', 'pops,', 'was', 'an', 'american', 'trumpeter,', 'composer,', 'singer', 'and', 'occasional', 'actor', 'who', 'was', 'one', 'of', 'the', 'most', 'influential', 'figures', 'in', 'jazz.', 'his', 'career', 'spanned', 'five', 'decades,', 'from', 'the', '1920s', 'to', 'the', '1960s,', 'and', 'different', 'eras', 'in', 'jazz.', 'coming', 'to', 'prominence', 'in', 'the', '1920s', 'as', 'an', '\"inventive\"', 'trumpet', 'and', 'cornet', 'player,', 'armstrong', 'was', 'a', 'foundational', 'influence', 'in', 'jazz,', 'shifting', 'the', 'focus', 'of', 'the', 'music', 'from', 'collective', 'improvisation', 'to', 'solo', 'performance.', 'with', 'his', 'instantly', 'recognizable', 'gravelly', 'voice,', 'armstrong', 'was', 'also', 'an', 'influential', 'singer,', 'demonstrating', 'great', 'dexterity', 'as', 'an', 'improviser,', 'bending', 'the']\n",
      "\n",
      " * STEMMED WORDS: \n",
      "['loui', 'armstrong', '(august', '4,', '1901', '-', 'juli', '6,', '1971),', 'nicknam', 'satchmo', 'or', 'pops,', 'was', 'an', 'american', 'trumpeter,', 'composer,', 'singer', 'and', 'occasion', 'actor', 'who', 'was', 'one', 'of', 'the', 'most', 'influenti', 'figur', 'in', 'jazz.', 'his', 'career', 'span', 'five', 'decades,', 'from', 'the', '1920s', 'to', 'the', '1960s,', 'and', 'differ', 'era', 'in', 'jazz.', 'come', 'to', 'promin', 'in', 'the', '1920s', 'as', 'an', '\"inventive\"', 'trumpet', 'and', 'cornet', 'player,', 'armstrong', 'was', 'a', 'foundat', 'influenc', 'in', 'jazz,', 'shift', 'the', 'focus', 'of', 'the', 'music', 'from', 'collect', 'improvis', 'to', 'solo', 'performance.', 'with', 'his', 'instant', 'recogniz', 'gravelli', 'voice,', 'armstrong', 'was', 'also', 'an', 'influenti', 'singer,', 'demonstr', 'great', 'dexter', 'as', 'an', 'improviser,', 'bend', 'the']\n",
      "\n",
      " * STOP WORDS REMOVED: \n",
      "['loui', 'armstrong', '(august', '4,', '1901', '-', 'juli', '6,', '1971),', 'nicknam', 'satchmo', 'pops,', 'american', 'trumpeter,', 'composer,', 'singer', 'occasion', 'actor', 'one', 'influenti', 'figur', 'jazz.', 'career', 'span', 'five', 'decades,', '1920s', '1960s,', 'differ', 'era', 'jazz.', 'come', 'promin', '1920s', '\"inventive\"', 'trumpet', 'cornet', 'player,', 'armstrong', 'foundat', 'influenc', 'jazz,', 'shift', 'focus', 'music', 'collect', 'improvis', 'solo', 'performance.', 'instant', 'recogniz', 'gravelli', 'voice,', 'armstrong', 'also', 'influenti', 'singer,', 'demonstr', 'great', 'dexter', 'improviser,', 'bend', 'lyric', 'melodi', 'song', 'express', 'purposes.', 'also', 'skill', 'scat', 'singing.', 'renown', 'charismat', 'stage', 'presenc', 'voic', 'almost', 'much', 'trumpet-playing,', 'armstrong', 'influenc', 'extend', 'well', 'beyond', 'jazz', 'music,', 'end', 'career', '1960s,', 'wide', 'regard', 'profound', 'influenc', 'popular', 'music', 'general.', 'armstrong', 'one', 'first', 'truli']\n"
     ]
    }
   ],
   "source": [
    "# Mantain only letters\n",
    "letters_only = re.compile(\"[^a-zA-Z]\") # if one wants to retain only letters, pass this to the 'regex' argumento of review_to_wordlist()\n",
    "\n",
    "snowball_stemmer = SnowballStemmer(\"english\", ignore_stopwords=True) # define the stemmer\n",
    "\n",
    "clean_documents = []\n",
    "\n",
    "for i in range(0, len(data[\"bio\"])): # for each document, convert it to a list of words\n",
    "    clean_documents.append(\" \".join(review_to_wordlist(data[\"bio\"][i], regex=None,\n",
    "                                                       remove_stopwords=True, stemmer=snowball_stemmer, verbose=True)))"
   ]
  },
  {
   "cell_type": "markdown",
   "metadata": {},
   "source": [
    "#### TF-IDF\n",
    "\n",
    "After the bag-of-words model creation, we create a TF-IDF representation of words."
   ]
  },
  {
   "cell_type": "code",
   "execution_count": 5,
   "metadata": {},
   "outputs": [
    {
     "name": "stdout",
     "output_type": "stream",
     "text": [
      "Dataset shape: (16, 1049)\n"
     ]
    }
   ],
   "source": [
    "tfidf_vectorizer = TfidfVectorizer(norm='l2', max_df=0.95, min_df=0.1)\n",
    "\n",
    "train_data_features = tfidf_vectorizer.fit_transform(clean_documents)\n",
    "\n",
    "search_db = train_data_features.toarray()\n",
    "print('Dataset shape:', search_db.shape)\n"
   ]
  },
  {
   "cell_type": "markdown",
   "metadata": {},
   "source": [
    "#### Test the method\n",
    "The method converts a new text query using the same processing used for building the corpus. Then, the vector of the query is compared with the vector of each jazzist via cosine similarity. The jazzist closer to the query is returned as answer to the search query."
   ]
  },
  {
   "cell_type": "code",
   "execution_count": 6,
   "metadata": {},
   "outputs": [
    {
     "name": "stdout",
     "output_type": "stream",
     "text": [
      "Query: Famous jazz saxophonist born in Kansas who played bebop and latin\n",
      "Answer: Charles \"Charlie\" Parker, Jr. \n"
     ]
    }
   ],
   "source": [
    "query_document = []\n",
    "query = \"Famous jazz saxophonist born in Kansas who played bebop and latin\"\n",
    "query_document.append(\" \".join(review_to_wordlist(query, regex=None,\n",
    "                                                  remove_stopwords=True, stemmer=snowball_stemmer)))\n",
    "query_tfidf = tfidf_vectorizer.transform(query_document).toarray()\n",
    "\n",
    "similarities = cosine_similarity(query_tfidf, search_db)\n",
    "sorted_indexes = np.argsort(similarities)\n",
    "results = data[\"name\"][np.argmax(similarities)]\n",
    "print(\"Query:\", query)\n",
    "print(\"Answer:\", results)"
   ]
  },
  {
   "cell_type": "code",
   "execution_count": 7,
   "metadata": {},
   "outputs": [
    {
     "name": "stdout",
     "output_type": "stream",
     "text": [
      "Query: Trumpeter who sang wonderful world\n",
      "Answer: Louis Armstrong \n"
     ]
    }
   ],
   "source": [
    "query_document = []\n",
    "query = \"Trumpeter who sang wonderful world\"\n",
    "query_document.append(\" \".join(review_to_wordlist(query, regex=None,\n",
    "                                                  remove_stopwords=True, stemmer=snowball_stemmer)))\n",
    "query_tfidf = tfidf_vectorizer.transform(query_document).toarray()\n",
    "\n",
    "similarities = cosine_similarity(query_tfidf, search_db)\n",
    "sorted_indexes = np.argsort(similarities)\n",
    "results = data[\"name\"][np.argmax(similarities)]\n",
    "print(\"Query:\", query)\n",
    "print(\"Answer:\", results)"
   ]
  },
  {
   "cell_type": "code",
   "execution_count": 8,
   "metadata": {},
   "outputs": [
    {
     "name": "stdout",
     "output_type": "stream",
     "text": [
      "Query: Saxophonist who made giant steps\n",
      "Answer: John William Coltrane, also known as \"Trane\" \n"
     ]
    }
   ],
   "source": [
    "query_document = []\n",
    "query = \"Saxophonist who made giant steps\"\n",
    "query_document.append(\" \".join(review_to_wordlist(query, regex=None,\n",
    "                                                  remove_stopwords=True, stemmer=snowball_stemmer)))\n",
    "query_tfidf = tfidf_vectorizer.transform(query_document).toarray()\n",
    "\n",
    "similarities = cosine_similarity(query_tfidf, search_db)\n",
    "sorted_indexes = np.argsort(similarities)\n",
    "results = data[\"name\"][np.argmax(similarities)]\n",
    "print(\"Query:\", query)\n",
    "print(\"Answer:\", results)"
   ]
  },
  {
   "cell_type": "code",
   "execution_count": 9,
   "metadata": {},
   "outputs": [
    {
     "name": "stdout",
     "output_type": "stream",
     "text": [
      "Query: Woman who sang Feeling Good\n",
      "Answer: Nina Simone \n"
     ]
    }
   ],
   "source": [
    "query_document = []\n",
    "query = \"Woman who sang Feeling Good\"\n",
    "query_document.append(\" \".join(review_to_wordlist(query, regex=None,\n",
    "                                                  remove_stopwords=True, stemmer=snowball_stemmer)))\n",
    "query_tfidf = tfidf_vectorizer.transform(query_document).toarray()\n",
    "\n",
    "similarities = cosine_similarity(query_tfidf, search_db)\n",
    "sorted_indexes = np.argsort(similarities)\n",
    "results = data[\"name\"][np.argmax(similarities)]\n",
    "print(\"Query:\", query)\n",
    "print(\"Answer:\", results)"
   ]
  },
  {
   "cell_type": "code",
   "execution_count": null,
   "metadata": {},
   "outputs": [],
   "source": []
  }
 ],
 "metadata": {
  "kernelspec": {
   "display_name": "Python 3",
   "language": "python",
   "name": "python3"
  },
  "language_info": {
   "codemirror_mode": {
    "name": "ipython",
    "version": 3
   },
   "file_extension": ".py",
   "mimetype": "text/x-python",
   "name": "python",
   "nbconvert_exporter": "python",
   "pygments_lexer": "ipython3",
   "version": "3.6.7"
  }
 },
 "nbformat": 4,
 "nbformat_minor": 2
}
